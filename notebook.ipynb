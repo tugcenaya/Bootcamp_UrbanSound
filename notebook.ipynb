{
 "cells": [
  {
   "cell_type": "markdown",
   "metadata": {},
   "source": [
    "# Downloading and Extracting the Dataset"
   ]
  },
  {
   "cell_type": "code",
   "execution_count": null,
   "metadata": {
    "execution": {
     "iopub.execute_input": "2022-10-07T21:16:29.506164Z",
     "iopub.status.busy": "2022-10-07T21:16:29.505707Z",
     "iopub.status.idle": "2022-10-07T21:20:14.988442Z",
     "shell.execute_reply": "2022-10-07T21:20:14.986012Z",
     "shell.execute_reply.started": "2022-10-07T21:16:29.506052Z"
    }
   },
   "outputs": [],
   "source": [
    "!wget https://zenodo.org/record/1203745/files/UrbanSound8K.tar.gz"
   ]
  },
  {
   "cell_type": "code",
   "execution_count": null,
   "metadata": {
    "execution": {
     "iopub.execute_input": "2022-10-07T21:20:14.993256Z",
     "iopub.status.busy": "2022-10-07T21:20:14.992786Z",
     "iopub.status.idle": "2022-10-07T21:21:44.338056Z",
     "shell.execute_reply": "2022-10-07T21:21:44.336462Z",
     "shell.execute_reply.started": "2022-10-07T21:20:14.993209Z"
    }
   },
   "outputs": [],
   "source": [
    "!tar -xf UrbanSound8K.tar.gz"
   ]
  },
  {
   "cell_type": "code",
   "execution_count": null,
   "metadata": {},
   "outputs": [],
   "source": [
    "pip install pandas ipython[all] jupyter"
   ]
  },
  {
   "cell_type": "markdown",
   "metadata": {},
   "source": [
    "# Imports"
   ]
  },
  {
   "cell_type": "code",
   "execution_count": null,
   "metadata": {
    "execution": {
     "iopub.execute_input": "2022-10-07T22:03:04.827745Z",
     "iopub.status.busy": "2022-10-07T22:03:04.827249Z",
     "iopub.status.idle": "2022-10-07T22:03:13.614871Z",
     "shell.execute_reply": "2022-10-07T22:03:13.613434Z",
     "shell.execute_reply.started": "2022-10-07T22:03:04.827698Z"
    }
   },
   "outputs": [],
   "source": [
    "import os\n",
    "import random\n",
    "import pickle\n",
    "\n",
    "import pandas as pd\n",
    "import numpy as np\n",
    "import matplotlib.pyplot as plt\n",
    "\n",
    "import librosa\n",
    "import librosa.display\n",
    "import cv2 as cv\n",
    "import tensorflow as tf"
   ]
  },
  {
   "cell_type": "markdown",
   "metadata": {},
   "source": [
    "# Creating Spectrograms"
   ]
  },
  {
   "cell_type": "code",
   "execution_count": null,
   "metadata": {
    "execution": {
     "iopub.execute_input": "2022-10-07T21:21:46.972945Z",
     "iopub.status.busy": "2022-10-07T21:21:46.972531Z",
     "iopub.status.idle": "2022-10-07T21:21:46.981144Z",
     "shell.execute_reply": "2022-10-07T21:21:46.980196Z",
     "shell.execute_reply.started": "2022-10-07T21:21:46.972902Z"
    }
   },
   "outputs": [],
   "source": [
    "def create_spectrogram(y):\n",
    "    spec = librosa.feature.melspectrogram(y=y)\n",
    "    spec_conv = librosa.amplitude_to_db(spec, ref=np.max)\n",
    "    return spec_conv\n",
    "\n",
    "\n",
    "def save_spectrogram(spectrogram, file_name, classid):\n",
    "    if str(classid) not in os.listdir(\"spectrograms\"):\n",
    "        os.mkdir(f\"spectrograms/{classid}\")\n",
    "\n",
    "    save_name = file_name.split(\".\")[0]\n",
    "    \n",
    "    plt.figure()\n",
    "    librosa.display.specshow(spectrogram)\n",
    "    plt.savefig(f\"spectrograms/{classid}/{save_name}.png\", bbox_inches=\"tight\", pad_inches=0)\n",
    "    plt.close()"
   ]
  },
  {
   "cell_type": "code",
   "execution_count": null,
   "metadata": {
    "execution": {
     "iopub.execute_input": "2022-10-07T21:21:46.982948Z",
     "iopub.status.busy": "2022-10-07T21:21:46.982408Z",
     "iopub.status.idle": "2022-10-07T21:21:47.05216Z",
     "shell.execute_reply": "2022-10-07T21:21:47.051048Z",
     "shell.execute_reply.started": "2022-10-07T21:21:46.982912Z"
    }
   },
   "outputs": [],
   "source": [
    "df = pd.read_csv(\"UrbanSound8K/metadata/UrbanSound8K.csv\")\n",
    "df.head()"
   ]
  },
  {
   "cell_type": "code",
   "execution_count": null,
   "metadata": {
    "execution": {
     "iopub.execute_input": "2022-10-07T21:21:47.054475Z",
     "iopub.status.busy": "2022-10-07T21:21:47.054015Z"
    }
   },
   "outputs": [],
   "source": [
    "path_to_folds = \"UrbanSound8K/audio\"\n",
    "\n",
    "if \"spectrograms\" not in os.listdir():\n",
    "    os.mkdir(\"spectrograms\")\n",
    "\n",
    "number_of_files = df.shape[0]\n",
    "number_of_processed = 0\n",
    "number_of_errors = 0\n",
    "\n",
    "\n",
    "with open(\"errors.txt\", \"w\") as error_file:\n",
    "    for index, row in df.iterrows():\n",
    "        try:\n",
    "            file_name = row[\"slice_file_name\"]\n",
    "            fold = row[\"fold\"]\n",
    "            classid = row[\"classID\"]\n",
    "            path_to_file = f\"{path_to_folds}/fold{fold}/{file_name}\"\n",
    "                        \n",
    "            data, sr = librosa.load(path_to_file)\n",
    "            spectrogram = create_spectrogram(data)\n",
    "            save_spectrogram(spectrogram, file_name, classid)\n",
    "            \n",
    "            del data\n",
    "            del sr\n",
    "            del spectrogram\n",
    "            \n",
    "        except Exception as e:\n",
    "            number_of_errors += 1\n",
    "            error_file.write(f\"{number_of_errors}: {e}\\n\")\n",
    "        \n",
    "        finally:\n",
    "            number_of_processed += 1\n",
    "        \n",
    "        print(f\"\\rNumber: {number_of_processed}/{number_of_files} | Errors: {number_of_errors}\", end=\"\")"
   ]
  },
  {
   "cell_type": "markdown",
   "metadata": {},
   "source": [
    "# Preprocessing"
   ]
  },
  {
   "cell_type": "code",
   "execution_count": null,
   "metadata": {
    "execution": {
     "iopub.execute_input": "2022-10-07T22:03:33.538123Z",
     "iopub.status.busy": "2022-10-07T22:03:33.537336Z",
     "iopub.status.idle": "2022-10-07T22:03:55.910659Z",
     "shell.execute_reply": "2022-10-07T22:03:55.909311Z",
     "shell.execute_reply.started": "2022-10-07T22:03:33.538074Z"
    }
   },
   "outputs": [],
   "source": [
    "images = []\n",
    "number_of_errors = 0\n",
    "number_of_processed = 0\n",
    "\n",
    "for classid in os.listdir(\"spectrograms\"):\n",
    "    path_to_class = f\"spectrograms/{classid}\"\n",
    "    for image in os.listdir(path_to_class):\n",
    "        try:\n",
    "            path_to_image = f\"{path_to_class}/{image}\"\n",
    "            \n",
    "            img = cv.imread(path_to_image, 0)\n",
    "            img = cv.resize(img, (128,128))\n",
    "            img = img/255\n",
    "            images.append([img, int(classid)])\n",
    "            number_of_processed += 1\n",
    "\n",
    "        except:\n",
    "            number_of_errors += 1\n",
    "        \n",
    "        print(f\"\\rProcessed: {number_of_processed} | Erros: {number_of_errors}\", end=\"\")"
   ]
  },
  {
   "cell_type": "code",
   "execution_count": null,
   "metadata": {
    "execution": {
     "iopub.execute_input": "2022-10-07T22:03:59.148642Z",
     "iopub.status.busy": "2022-10-07T22:03:59.148206Z",
     "iopub.status.idle": "2022-10-07T22:03:59.15862Z",
     "shell.execute_reply": "2022-10-07T22:03:59.157328Z",
     "shell.execute_reply.started": "2022-10-07T22:03:59.148597Z"
    }
   },
   "outputs": [],
   "source": [
    "len(images)"
   ]
  },
  {
   "cell_type": "code",
   "execution_count": null,
   "metadata": {
    "execution": {
     "iopub.execute_input": "2022-10-07T22:04:03.356639Z",
     "iopub.status.busy": "2022-10-07T22:04:03.356076Z",
     "iopub.status.idle": "2022-10-07T22:04:03.444769Z",
     "shell.execute_reply": "2022-10-07T22:04:03.443693Z",
     "shell.execute_reply.started": "2022-10-07T22:04:03.356568Z"
    }
   },
   "outputs": [],
   "source": [
    "for _ in range(10):\n",
    "    random.shuffle(images)"
   ]
  },
  {
   "cell_type": "code",
   "execution_count": null,
   "metadata": {
    "execution": {
     "iopub.execute_input": "2022-10-07T22:04:40.412289Z",
     "iopub.status.busy": "2022-10-07T22:04:40.411831Z",
     "iopub.status.idle": "2022-10-07T22:04:40.423076Z",
     "shell.execute_reply": "2022-10-07T22:04:40.421623Z",
     "shell.execute_reply.started": "2022-10-07T22:04:40.412252Z"
    }
   },
   "outputs": [],
   "source": [
    "X = []\n",
    "y = []\n",
    "\n",
    "for image, idx in images:\n",
    "    X.append(image)\n",
    "    y.append(idx)"
   ]
  },
  {
   "cell_type": "code",
   "execution_count": null,
   "metadata": {
    "execution": {
     "iopub.execute_input": "2022-10-07T22:04:46.610708Z",
     "iopub.status.busy": "2022-10-07T22:04:46.610268Z",
     "iopub.status.idle": "2022-10-07T22:04:46.616337Z",
     "shell.execute_reply": "2022-10-07T22:04:46.615319Z",
     "shell.execute_reply.started": "2022-10-07T22:04:46.610674Z"
    }
   },
   "outputs": [],
   "source": [
    "X_train = []\n",
    "y_train = []\n",
    "\n",
    "X_val = []\n",
    "y_val = []\n",
    "\n",
    "X_test = []\n",
    "y_test = []"
   ]
  },
  {
   "cell_type": "code",
   "execution_count": null,
   "metadata": {
    "execution": {
     "iopub.execute_input": "2022-10-07T22:05:44.124434Z",
     "iopub.status.busy": "2022-10-07T22:05:44.12391Z",
     "iopub.status.idle": "2022-10-07T22:05:44.131837Z",
     "shell.execute_reply": "2022-10-07T22:05:44.130503Z",
     "shell.execute_reply.started": "2022-10-07T22:05:44.12439Z"
    }
   },
   "outputs": [],
   "source": [
    "X_train = X[:6293]\n",
    "y_train = y[:6293]\n",
    "\n",
    "X_val = X[6293:7079]\n",
    "y_val = y[6293:7079]\n",
    "\n",
    "X_test = X[7079:]\n",
    "y_test = y[7079:]"
   ]
  },
  {
   "cell_type": "code",
   "execution_count": null,
   "metadata": {
    "execution": {
     "iopub.execute_input": "2022-10-07T22:05:51.012148Z",
     "iopub.status.busy": "2022-10-07T22:05:51.011636Z",
     "iopub.status.idle": "2022-10-07T22:05:51.020131Z",
     "shell.execute_reply": "2022-10-07T22:05:51.018658Z",
     "shell.execute_reply.started": "2022-10-07T22:05:51.012084Z"
    }
   },
   "outputs": [],
   "source": [
    "print(len(X_train))\n",
    "print(len(y_train))\n",
    "print(len(X_val))\n",
    "print(len(y_val))\n",
    "print(len(X_test))\n",
    "print(len(y_test))"
   ]
  },
  {
   "cell_type": "code",
   "execution_count": null,
   "metadata": {
    "execution": {
     "iopub.execute_input": "2022-10-07T22:05:54.901199Z",
     "iopub.status.busy": "2022-10-07T22:05:54.90078Z",
     "iopub.status.idle": "2022-10-07T22:05:55.581552Z",
     "shell.execute_reply": "2022-10-07T22:05:55.580257Z",
     "shell.execute_reply.started": "2022-10-07T22:05:54.901167Z"
    }
   },
   "outputs": [],
   "source": [
    "X_train = np.array(X_train)\n",
    "y_train = np.array(y_train)\n",
    "\n",
    "X_val = np.array(X_val)\n",
    "y_val = np.array(y_val)\n",
    "\n",
    "X_test = np.array(X_test)\n",
    "y_test = np.array(y_test)"
   ]
  },
  {
   "cell_type": "code",
   "execution_count": null,
   "metadata": {
    "execution": {
     "iopub.execute_input": "2022-10-07T22:05:59.635825Z",
     "iopub.status.busy": "2022-10-07T22:05:59.635309Z",
     "iopub.status.idle": "2022-10-07T22:05:59.643596Z",
     "shell.execute_reply": "2022-10-07T22:05:59.64205Z",
     "shell.execute_reply.started": "2022-10-07T22:05:59.635775Z"
    }
   },
   "outputs": [],
   "source": [
    "X_train = X_train.reshape(-1, 128, 128, 1) \n",
    "X_val = X_val.reshape(-1, 128, 128, 1) \n",
    "X_test = X_test.reshape(-1, 128, 128, 1) "
   ]
  },
  {
   "cell_type": "code",
   "execution_count": null,
   "metadata": {
    "execution": {
     "iopub.execute_input": "2022-10-07T22:06:05.680384Z",
     "iopub.status.busy": "2022-10-07T22:06:05.679927Z",
     "iopub.status.idle": "2022-10-07T22:06:07.808801Z",
     "shell.execute_reply": "2022-10-07T22:06:07.807515Z",
     "shell.execute_reply.started": "2022-10-07T22:06:05.680347Z"
    }
   },
   "outputs": [],
   "source": [
    "if \"pickles\" not in os.listdir():\n",
    "    os.mkdir(\"pickles\")\n",
    "\n",
    "with open(\"pickles/X_train.pickle\", \"wb\") as f:\n",
    "  pickle.dump(X_train, f)  \n",
    "with open(\"pickles/y_train.pickle\", \"wb\") as f:\n",
    "  pickle.dump(y_train, f)\n",
    "\n",
    "with open(\"pickles/X_val.pickle\", \"wb\") as f:\n",
    "  pickle.dump(X_val, f)  \n",
    "with open(\"pickles/y_val.pickle\", \"wb\") as f:\n",
    "  pickle.dump(y_val, f)\n",
    "\n",
    "with open(\"pickles/X_test.pickle\", \"wb\") as f:\n",
    "  pickle.dump(X_test, f)  \n",
    "with open(\"pickles/y_test.pickle\", \"wb\") as f:\n",
    "  pickle.dump(y_test, f)"
   ]
  },
  {
   "cell_type": "markdown",
   "metadata": {},
   "source": [
    "# Model Training"
   ]
  },
  {
   "cell_type": "code",
   "execution_count": null,
   "metadata": {
    "execution": {
     "iopub.execute_input": "2022-10-07T22:06:37.322504Z",
     "iopub.status.busy": "2022-10-07T22:06:37.321809Z",
     "iopub.status.idle": "2022-10-07T22:06:38.667328Z",
     "shell.execute_reply": "2022-10-07T22:06:38.666167Z",
     "shell.execute_reply.started": "2022-10-07T22:06:37.322461Z"
    }
   },
   "outputs": [],
   "source": [
    "# Model\n",
    "model = tf.keras.Sequential()\n",
    "\n",
    "# Feature Extraction\n",
    "model.add(tf.keras.layers.Conv2D(32, kernel_size=(3,3), strides=(2,2), padding=\"same\", input_shape=(128, 128, 1)))\n",
    "model.add(tf.keras.layers.MaxPool2D(pool_size=(2,2), strides=(2,2)))\n",
    "\n",
    "model.add(tf.keras.layers.Conv2D(32, kernel_size=(3,3), strides=(2,2), padding=\"same\", activation=\"relu\"))\n",
    "model.add(tf.keras.layers.MaxPool2D(pool_size=(2,2), strides=(2,2)))\n",
    "model.add(tf.keras.layers.Conv2D(32, kernel_size=(3,3), strides=(2,2), padding=\"same\", activation=\"relu\"))\n",
    "model.add(tf.keras.layers.MaxPool2D(pool_size=(2,2), strides=(2,2)))\n",
    "\n",
    "# Flatten\n",
    "model.add(tf.keras.layers.Flatten())\n",
    "\n",
    "# Classification\n",
    "model.add(tf.keras.layers.Dense(64, activation=\"relu\"))\n",
    "model.add(tf.keras.layers.Dropout(0.5))\n",
    "model.add(tf.keras.layers.Dense(64, activation=\"relu\"))\n",
    "model.add(tf.keras.layers.Dropout(0.5))\n",
    "model.add(tf.keras.layers.Dense(64, activation=\"relu\"))\n",
    "model.add(tf.keras.layers.Dropout(0.5))\n",
    "model.add(tf.keras.layers.Dense(64, activation=\"relu\"))\n",
    "model.add(tf.keras.layers.Dropout(0.5))\n",
    "\n",
    "# Output Layer\n",
    "model.add(tf.keras.layers.Dense(10, activation=\"softmax\"))"
   ]
  },
  {
   "cell_type": "code",
   "execution_count": null,
   "metadata": {
    "execution": {
     "iopub.execute_input": "2022-10-07T22:08:17.686987Z",
     "iopub.status.busy": "2022-10-07T22:08:17.686508Z",
     "iopub.status.idle": "2022-10-07T22:08:17.704533Z",
     "shell.execute_reply": "2022-10-07T22:08:17.703644Z",
     "shell.execute_reply.started": "2022-10-07T22:08:17.686952Z"
    }
   },
   "outputs": [],
   "source": [
    "model.compile(optimizer='adam', loss=\"sparse_categorical_crossentropy\", metrics=['accuracy'])"
   ]
  },
  {
   "cell_type": "code",
   "execution_count": null,
   "metadata": {
    "execution": {
     "iopub.execute_input": "2022-10-07T22:09:00.052755Z",
     "iopub.status.busy": "2022-10-07T22:09:00.052244Z",
     "iopub.status.idle": "2022-10-07T22:12:37.927984Z",
     "shell.execute_reply": "2022-10-07T22:12:37.926839Z",
     "shell.execute_reply.started": "2022-10-07T22:09:00.052712Z"
    }
   },
   "outputs": [],
   "source": [
    "history = model.fit(X_train, y_train, epochs=50, validation_data=(X_val, y_val))"
   ]
  },
  {
   "cell_type": "code",
   "execution_count": null,
   "metadata": {
    "execution": {
     "iopub.execute_input": "2022-10-07T22:12:41.119997Z",
     "iopub.status.busy": "2022-10-07T22:12:41.118695Z",
     "iopub.status.idle": "2022-10-07T22:12:41.50581Z",
     "shell.execute_reply": "2022-10-07T22:12:41.504653Z",
     "shell.execute_reply.started": "2022-10-07T22:12:41.119951Z"
    }
   },
   "outputs": [],
   "source": [
    "result = model.evaluate(X_test, y_test)\n",
    "print(f\"Loss: {result[0]} - Accuracy: {result[1]}\")"
   ]
  },
  {
   "cell_type": "code",
   "execution_count": null,
   "metadata": {
    "execution": {
     "iopub.execute_input": "2022-10-07T22:12:44.22217Z",
     "iopub.status.busy": "2022-10-07T22:12:44.221732Z",
     "iopub.status.idle": "2022-10-07T22:12:44.484607Z",
     "shell.execute_reply": "2022-10-07T22:12:44.483472Z",
     "shell.execute_reply.started": "2022-10-07T22:12:44.222132Z"
    }
   },
   "outputs": [],
   "source": [
    "plt.plot(history.history[\"loss\"], label=\"Train\")\n",
    "plt.plot(history.history[\"val_loss\"], label=\"Validation\")\n",
    "\n",
    "plt.xlabel(\"Epoch\")\n",
    "plt.ylabel(\"Loss\")\n",
    "\n",
    "plt.legend()\n",
    "plt.show()"
   ]
  },
  {
   "cell_type": "code",
   "execution_count": null,
   "metadata": {
    "execution": {
     "iopub.execute_input": "2022-10-07T22:12:47.478738Z",
     "iopub.status.busy": "2022-10-07T22:12:47.477369Z",
     "iopub.status.idle": "2022-10-07T22:12:47.677666Z",
     "shell.execute_reply": "2022-10-07T22:12:47.676436Z",
     "shell.execute_reply.started": "2022-10-07T22:12:47.47868Z"
    }
   },
   "outputs": [],
   "source": [
    "plt.plot(history.history[\"accuracy\"], label=\"Train\")\n",
    "plt.plot(history.history[\"val_accuracy\"], label=\"Validation\")\n",
    "\n",
    "plt.xlabel(\"Epoch\")\n",
    "plt.ylabel(\"Accuracy\")\n",
    "\n",
    "plt.legend()\n",
    "plt.show()"
   ]
  }
 ],
 "metadata": {
  "kernelspec": {
   "display_name": "Python 3",
   "language": "python",
   "name": "python3"
  },
  "language_info": {
   "codemirror_mode": {
    "name": "ipython",
    "version": 3
   },
   "file_extension": ".py",
   "mimetype": "text/x-python",
   "name": "python",
   "nbconvert_exporter": "python",
   "pygments_lexer": "ipython3",
   "version": "3.7.3"
  }
 },
 "nbformat": 4,
 "nbformat_minor": 4
}
